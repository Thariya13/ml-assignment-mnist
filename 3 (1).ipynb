{
  "nbformat": 4,
  "nbformat_minor": 0,
  "metadata": {
    "colab": {
      "name": "3.ipynb",
      "provenance": [],
      "collapsed_sections": []
    },
    "kernelspec": {
      "name": "python3",
      "display_name": "Python 3"
    }
  },
  "cells": [
    {
      "cell_type": "code",
      "metadata": {
        "id": "S0lrz2DkIOod",
        "colab_type": "code",
        "colab": {
          "base_uri": "https://localhost:8080/",
          "height": 90
        },
        "outputId": "c1505b8b-6a94-43b1-8265-3bbb87e3d518"
      },
      "source": [
        "# import libraries\n",
        "import numpy as np\n",
        "import matplotlib.pyplot as plt\n",
        "import matplotlib.image as mpimg\n",
        "import seaborn as sns\n",
        "%matplotlib inline\n",
        "\n",
        "np.random.seed(2)\n",
        "\n",
        "import itertools\n",
        "\n",
        "from tensorflow import keras\n",
        "from keras.utils.np_utils import to_categorical\n",
        "from keras.models import Sequential\n",
        "from keras.layers import Dense, Dropout, Flatten, Conv2D, MaxPool2D, BatchNormalization\n",
        "from keras.optimizers import RMSprop\n",
        "from keras.preprocessing.image import ImageDataGenerator\n",
        "from keras.callbacks import ReduceLROnPlateau\n",
        "\n",
        "sns.set(style='white', context='notebook', palette='deep')"
      ],
      "execution_count": 1,
      "outputs": [
        {
          "output_type": "stream",
          "text": [
            "/usr/local/lib/python3.6/dist-packages/statsmodels/tools/_testing.py:19: FutureWarning: pandas.util.testing is deprecated. Use the functions in the public API at pandas.testing instead.\n",
            "  import pandas.util.testing as tm\n",
            "Using TensorFlow backend.\n"
          ],
          "name": "stderr"
        }
      ]
    },
    {
      "cell_type": "code",
      "metadata": {
        "id": "QF5O21RxksLK",
        "colab_type": "code",
        "colab": {}
      },
      "source": [
        "# load dataset\n",
        "(x_train, y_train), (x_test, y_test) = keras.datasets.mnist.load_data()"
      ],
      "execution_count": 2,
      "outputs": []
    },
    {
      "cell_type": "code",
      "metadata": {
        "id": "Uqsh9mZg7DUd",
        "colab_type": "code",
        "colab": {}
      },
      "source": [
        "# add noise to dataset\n",
        "noise_factor = 0.25\n",
        "x_train_noisy = x_train + noise_factor * np.random.normal(loc=0.0, scale=1.0, size=x_train.shape)\n",
        "x_test_noisy = x_test + noise_factor * np.random.normal(loc=0.0, scale=1.0, size=x_test.shape)\n",
        "x_train_noisy = np.clip(x_train_noisy, 0., 1.)\n",
        "x_test_noisy = np.clip(x_test_noisy, 0., 1.)"
      ],
      "execution_count": 3,
      "outputs": []
    },
    {
      "cell_type": "code",
      "metadata": {
        "id": "aFlYkXLzmhOv",
        "colab_type": "code",
        "colab": {}
      },
      "source": [
        "# normalize data\n",
        "x_train = x_train_noisy.astype(\"float32\")/255\n",
        "x_test = x_test_noisy.astype(\"float32\")/255"
      ],
      "execution_count": 4,
      "outputs": []
    },
    {
      "cell_type": "code",
      "metadata": {
        "id": "WM7yANY7m-p7",
        "colab_type": "code",
        "colab": {}
      },
      "source": [
        "num_classes = 10\n",
        "\n",
        "# reshape image in 3 dimensions (height = 28px, width = 28px , canal = 1)\n",
        "x_train = x_train.reshape(-1,28,28,1)\n",
        "x_test = x_test.reshape(-1,28,28,1)\n",
        "\n",
        "y_train = keras.utils.to_categorical(y_train, num_classes)\n",
        "y_test = keras.utils.to_categorical(y_test, num_classes)"
      ],
      "execution_count": 5,
      "outputs": []
    },
    {
      "cell_type": "code",
      "metadata": {
        "id": "dnh9UQ5XnvcO",
        "colab_type": "code",
        "colab": {
          "base_uri": "https://localhost:8080/",
          "height": 267
        },
        "outputId": "6d34ad71-7176-496f-f877-0c6880db44a8"
      },
      "source": [
        "# some examples\n",
        "g = plt.imshow(x_train[0][:,:,0])"
      ],
      "execution_count": 6,
      "outputs": [
        {
          "output_type": "display_data",
          "data": {
            "image/png": "[encoded data removed]",
            "text/plain": [
              "<Figure size 432x288 with 1 Axes>"
            ]
          },
          "metadata": {
            "tags": [],
            "needs_background": "light"
          }
        }
      ]
    },
    {
      "cell_type": "code",
      "metadata": {
        "id": "ntPdoaHLo6Fi",
        "colab_type": "code",
        "colab": {}
      },
      "source": [
        "# # Set the CNN model\n",
        "# model = Sequential()\n",
        "\n",
        "# model.add(Conv2D(filters=32, kernel_size=(5,5), padding='Same', activation='relu', input_shape=(28,28,1)))\n",
        "# model.add(Conv2D(filters=32, kernel_size=(5,5), padding='Same', activation='relu'))\n",
        "# model.add(MaxPool2D(pool_size=(2,2)))\n",
        "# model.add(Dropout(0.25))\n",
        "\n",
        "# model.add(Conv2D(filters=64, kernel_size=(3,3), padding='Same', activation='relu'))\n",
        "# model.add(Conv2D(filters=64, kernel_size=(3,3), padding='Same', activation='relu'))\n",
        "# model.add(MaxPool2D(pool_size=(2,2), strides=(2,2)))\n",
        "# model.add(Dropout(0.25))\n",
        "\n",
        "# model.add(Flatten())\n",
        "# model.add(Dense(256, activation='relu'))\n",
        "# model.add(Dropout(0.5))\n",
        "# model.add(Dense(10, activation='softmax'))\n",
        "\n",
        "# # define the optimizer\n",
        "# optimizer = RMSprop(lr=0.001, rho=0.9, epsilon=1e-08, decay=0.0)\n",
        "\n",
        "# # Compile the model\n",
        "# model.compile(optimizer = optimizer , loss = \"categorical_crossentropy\", metrics=[\"accuracy\"])\n",
        "\n",
        "# model.summary()"
      ],
      "execution_count": null,
      "outputs": []
    },
    {
      "cell_type": "code",
      "metadata": {
        "id": "4iuK8Q059XG5",
        "colab_type": "code",
        "colab": {
          "base_uri": "https://localhost:8080/",
          "height": 407
        },
        "outputId": "9ca0236b-b99f-49b2-a0cb-e870156a8470"
      },
      "source": [
        "# Set the CNN model\n",
        "model = Sequential()\n",
        "\n",
        "model.add(Conv2D(filters=64, kernel_size=(3,3), activation='relu', input_shape=(28,28,1)))\n",
        "model.add(MaxPool2D(pool_size=(2,2)))\n",
        "\n",
        "model.add(Conv2D(filters=128, kernel_size=(3,3), activation='relu'))\n",
        "model.add(MaxPool2D(pool_size=(2,2)))\n",
        "\n",
        "model.add(Flatten())\n",
        "model.add(Dropout(0.5))\n",
        "model.add(Dense(num_classes, activation='softmax'))\n",
        "\n",
        "model.compile(loss=\"categorical_crossentropy\", optimizer=\"adam\", metrics=[\"accuracy\"])\n",
        "\n",
        "model.summary()"
      ],
      "execution_count": 15,
      "outputs": [
        {
          "output_type": "stream",
          "text": [
            "Model: \"sequential_5\"\n",
            "_________________________________________________________________\n",
            "Layer (type)                 Output Shape              Param #   \n",
            "=================================================================\n",
            "conv2d_9 (Conv2D)            (None, 26, 26, 64)        640       \n",
            "_________________________________________________________________\n",
            "max_pooling2d_9 (MaxPooling2 (None, 13, 13, 64)        0         \n",
            "_________________________________________________________________\n",
            "conv2d_10 (Conv2D)           (None, 11, 11, 128)       73856     \n",
            "_________________________________________________________________\n",
            "max_pooling2d_10 (MaxPooling (None, 5, 5, 128)         0         \n",
            "_________________________________________________________________\n",
            "flatten_5 (Flatten)          (None, 3200)              0         \n",
            "_________________________________________________________________\n",
            "dropout_5 (Dropout)          (None, 3200)              0         \n",
            "_________________________________________________________________\n",
            "dense_5 (Dense)              (None, 10)                32010     \n",
            "=================================================================\n",
            "Total params: 106,506\n",
            "Trainable params: 106,506\n",
            "Non-trainable params: 0\n",
            "_________________________________________________________________\n"
          ],
          "name": "stdout"
        }
      ]
    },
    {
      "cell_type": "code",
      "metadata": {
        "id": "h9E_h_cdvxqT",
        "colab_type": "code",
        "colab": {
          "base_uri": "https://localhost:8080/",
          "height": 407
        },
        "outputId": "0397d9e1-85c5-4647-b179-a397e81034c1"
      },
      "source": [
        "batch_size = 32\n",
        "epochs = 10\n",
        "\n",
        "model.fit(x_train, y_train, batch_size=batch_size, epochs=epochs, validation_split=0.1)\n",
        "# model.fit(x_train, y_train, batch_size=batch_size, epochs=epochs, validation_data=(x_test, y_test), verbose=0)"
      ],
      "execution_count": 12,
      "outputs": [
        {
          "output_type": "stream",
          "text": [
            "Train on 54000 samples, validate on 6000 samples\n",
            "Epoch 1/10\n",
            "54000/54000 [==============================] - 112s 2ms/step - loss: 0.9746 - accuracy: 0.6833 - val_loss: 0.3621 - val_accuracy: 0.8955\n",
            "Epoch 2/10\n",
            "54000/54000 [==============================] - 112s 2ms/step - loss: 0.4665 - accuracy: 0.8565 - val_loss: 0.2602 - val_accuracy: 0.9242\n",
            "Epoch 3/10\n",
            "54000/54000 [==============================] - 112s 2ms/step - loss: 0.3735 - accuracy: 0.8844 - val_loss: 0.2012 - val_accuracy: 0.9418\n",
            "Epoch 4/10\n",
            "54000/54000 [==============================] - 111s 2ms/step - loss: 0.3158 - accuracy: 0.9031 - val_loss: 0.1655 - val_accuracy: 0.9527\n",
            "Epoch 5/10\n",
            "54000/54000 [==============================] - 111s 2ms/step - loss: 0.2696 - accuracy: 0.9161 - val_loss: 0.1371 - val_accuracy: 0.9610\n",
            "Epoch 6/10\n",
            "54000/54000 [==============================] - 113s 2ms/step - loss: 0.2354 - accuracy: 0.9281 - val_loss: 0.1209 - val_accuracy: 0.9660\n",
            "Epoch 7/10\n",
            "54000/54000 [==============================] - 111s 2ms/step - loss: 0.2119 - accuracy: 0.9348 - val_loss: 0.1095 - val_accuracy: 0.9670\n",
            "Epoch 8/10\n",
            "54000/54000 [==============================] - 111s 2ms/step - loss: 0.1952 - accuracy: 0.9387 - val_loss: 0.1040 - val_accuracy: 0.9680\n",
            "Epoch 9/10\n",
            "54000/54000 [==============================] - 110s 2ms/step - loss: 0.1869 - accuracy: 0.9422 - val_loss: 0.0942 - val_accuracy: 0.9715\n",
            "Epoch 10/10\n",
            "54000/54000 [==============================] - 111s 2ms/step - loss: 0.1727 - accuracy: 0.9467 - val_loss: 0.0877 - val_accuracy: 0.9755\n"
          ],
          "name": "stdout"
        },
        {
          "output_type": "execute_result",
          "data": {
            "text/plain": [
              "<keras.callbacks.callbacks.History at 0x7f4ab39ced30>"
            ]
          },
          "metadata": {
            "tags": []
          },
          "execution_count": 12
        }
      ]
    },
    {
      "cell_type": "code",
      "metadata": {
        "id": "vG6PIAvLOsLc",
        "colab_type": "code",
        "colab": {
          "base_uri": "https://localhost:8080/",
          "height": 52
        },
        "outputId": "8ee0aea0-3931-48bc-bd53-cac572061ce3"
      },
      "source": [
        "score = model.evaluate(x_test, y_test, verbose=0)\n",
        "\n",
        "print(\"Test loss: \", score[0])\n",
        "print(\"Test accuracy: \", score[1])"
      ],
      "execution_count": 13,
      "outputs": [
        {
          "output_type": "stream",
          "text": [
            "Test loss:  0.10361144509464502\n",
            "Test accuracy:  0.9690999984741211\n"
          ],
          "name": "stdout"
        }
      ]
    },
    {
      "cell_type": "code",
      "metadata": {
        "id": "KcclAcaCrfF4",
        "colab_type": "code",
        "colab": {}
      },
      "source": [
        "# # set a learning rate annealer\n",
        "# learning_rate_reduction = ReduceLROnPlateau(monitor='val_acc', \n",
        "#                                             patience=3, \n",
        "#                                             verbose=1, \n",
        "#                                             factor=0.5, \n",
        "#                                             min_lr=0.00001)"
      ],
      "execution_count": null,
      "outputs": []
    },
    {
      "cell_type": "code",
      "metadata": {
        "id": "BnGhBQf4sKak",
        "colab_type": "code",
        "colab": {}
      },
      "source": [
        "# datagen = ImageDataGenerator(\n",
        "#         featurewise_center=False,  # set input mean to 0 over the dataset\n",
        "#         samplewise_center=False,  # set each sample mean to 0\n",
        "#         featurewise_std_normalization=False,  # divide inputs by std of the dataset\n",
        "#         samplewise_std_normalization=False,  # divide each input by its std\n",
        "#         zca_whitening=False,  # apply ZCA whitening\n",
        "#         rotation_range=10,  # randomly rotate images in the range (degrees, 0 to 180)\n",
        "#         zoom_range = 0.1, # randomly zoom image \n",
        "#         width_shift_range=0.1,  # randomly shift images horizontally (fraction of total width)\n",
        "#         height_shift_range=0.1,  # randomly shift images vertically (fraction of total height)\n",
        "#         horizontal_flip=False,  # randomly flip images\n",
        "#         vertical_flip=False)  # randomly flip images\n",
        "\n",
        "\n",
        "# datagen.fit(x_train)"
      ],
      "execution_count": null,
      "outputs": []
    },
    {
      "cell_type": "code",
      "metadata": {
        "id": "QjW1uJzvshGk",
        "colab_type": "code",
        "colab": {}
      },
      "source": [
        "# epochs = 30\n",
        "# batch_size = 86\n",
        "\n",
        "# # fit the model\n",
        "# history = model.fit_generator(datagen.flow(x_train,y_train, batch_size=batch_size),\n",
        "#                               epochs = epochs, validation_data = (x_test,y_test),\n",
        "#                               verbose = 2, steps_per_epoch=x_train.shape[0] // batch_size\n",
        "#                               , callbacks=[learning_rate_reduction])"
      ],
      "execution_count": null,
      "outputs": []
    }
  ]
}