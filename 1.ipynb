{
  "nbformat": 4,
  "nbformat_minor": 0,
  "metadata": {
    "colab": {
      "name": "1.ipynb",
      "provenance": [],
      "collapsed_sections": []
    },
    "kernelspec": {
      "name": "python3",
      "display_name": "Python 3"
    }
  },
  "cells": [
    {
      "cell_type": "code",
      "metadata": {
        "id": "S0lrz2DkIOod",
        "colab_type": "code",
        "colab": {}
      },
      "source": [
        "# import libraries\n",
        "import numpy as np\n",
        "import matplotlib.pyplot as plt\n",
        "import matplotlib.image as mpimg\n",
        "import seaborn as sns\n",
        "%matplotlib inline\n",
        "\n",
        "np.random.seed(2)\n",
        "\n",
        "import itertools\n",
        "\n",
        "from tensorflow import keras\n",
        "from keras.utils.np_utils import to_categorical\n",
        "from keras.models import Sequential\n",
        "from keras.layers import Dense, Dropout, Flatten, Conv2D, MaxPool2D\n",
        "from keras.optimizers import RMSprop\n",
        "from keras.preprocessing.image import ImageDataGenerator\n",
        "from keras.callbacks import ReduceLROnPlateau\n",
        "\n",
        "sns.set(style='white', context='notebook', palette='deep')"
      ],
      "execution_count": 87,
      "outputs": []
    },
    {
      "cell_type": "code",
      "metadata": {
        "id": "QF5O21RxksLK",
        "colab_type": "code",
        "colab": {}
      },
      "source": [
        "# load dataset\n",
        "(x_train, y_train), (x_test, y_test) = keras.datasets.mnist.load_data()"
      ],
      "execution_count": 88,
      "outputs": []
    },
    {
      "cell_type": "code",
      "metadata": {
        "id": "aFlYkXLzmhOv",
        "colab_type": "code",
        "colab": {}
      },
      "source": [
        "# normalize data\n",
        "x_train = x_train.astype(\"float32\")/255\n",
        "x_test = x_test.astype(\"float32\")/255"
      ],
      "execution_count": 89,
      "outputs": []
    },
    {
      "cell_type": "code",
      "metadata": {
        "id": "WM7yANY7m-p7",
        "colab_type": "code",
        "colab": {}
      },
      "source": [
        "num_classes = 10\n",
        "\n",
        "# reshape image in 3 dimensions (height = 28px, width = 28px , canal = 1)\n",
        "x_train = x_train.reshape(-1,28,28,1)\n",
        "x_test = x_test.reshape(-1,28,28,1)\n",
        "\n",
        "y_train = keras.utils.to_categorical(y_train, num_classes)\n",
        "y_test = keras.utils.to_categorical(y_test, num_classes)"
      ],
      "execution_count": 90,
      "outputs": []
    },
    {
      "cell_type": "code",
      "metadata": {
        "id": "dnh9UQ5XnvcO",
        "colab_type": "code",
        "colab": {
          "base_uri": "https://localhost:8080/",
          "height": 267
        },
        "outputId": "cdc9093a-403f-45ce-d04c-1564aa8e2735"
      },
      "source": [
        "# some examples\n",
        "g = plt.imshow(x_train[0][:,:,0])"
      ],
      "execution_count": 91,
      "outputs": [
        {
          "output_type": "display_data",
          "data": {
            "image/png": "[encoded data removed]",
            "text/plain": [
              "<Figure size 432x288 with 1 Axes>"
            ]
          },
          "metadata": {
            "tags": []
          }
        }
      ]
    },
    {
      "cell_type": "code",
      "metadata": {
        "id": "ntPdoaHLo6Fi",
        "colab_type": "code",
        "colab": {}
      },
      "source": [
        "# # Set the CNN model\n",
        "# model = Sequential()\n",
        "\n",
        "# model.add(Conv2D(filters=32, kernel_size=(5,5), padding='Same', activation='relu', input_shape=(28,28,1)))\n",
        "# model.add(Conv2D(filters=32, kernel_size=(5,5), padding='Same', activation='relu'))\n",
        "# model.add(MaxPool2D(pool_size=(2,2)))\n",
        "# model.add(Dropout(0.25))\n",
        "\n",
        "# model.add(Conv2D(filters=64, kernel_size=(3,3), padding='Same', activation='relu'))\n",
        "# model.add(Conv2D(filters=64, kernel_size=(3,3), padding='Same', activation='relu'))\n",
        "# model.add(MaxPool2D(pool_size=(2,2), strides=(2,2)))\n",
        "# model.add(Dropout(0.25))\n",
        "\n",
        "# model.add(Flatten())\n",
        "# model.add(Dense(256, activation='relu'))\n",
        "# model.add(Dropout(0.5))\n",
        "# model.add(Dense(10, activation='softmax'))\n",
        "\n",
        "# # define the optimizer\n",
        "# optimizer = RMSprop(lr=0.001, rho=0.9, epsilon=1e-08, decay=0.0)\n",
        "\n",
        "# # Compile the model\n",
        "# model.compile(optimizer = optimizer , loss = \"categorical_crossentropy\", metrics=[\"accuracy\"])\n",
        "\n",
        "# model.summary()"
      ],
      "execution_count": null,
      "outputs": []
    },
    {
      "cell_type": "code",
      "metadata": {
        "id": "IZFdfbwa7R5D",
        "colab_type": "code",
        "colab": {
          "base_uri": "https://localhost:8080/",
          "height": 407
        },
        "outputId": "c6b093d3-4d78-4bbb-f086-3fce6be4e873"
      },
      "source": [
        "# Set the CNN model\n",
        "model = Sequential()\n",
        "\n",
        "model.add(Conv2D(filters=32, kernel_size=(3,3), activation='relu', input_shape=(28,28,1)))\n",
        "model.add(MaxPool2D(pool_size=(2,2)))\n",
        "\n",
        "model.add(Conv2D(filters=64, kernel_size=(3,3), activation='relu'))\n",
        "model.add(MaxPool2D(pool_size=(2,2)))\n",
        "\n",
        "model.add(Flatten())\n",
        "model.add(Dropout(0.5))\n",
        "model.add(Dense(num_classes, activation='softmax'))\n",
        "\n",
        "model.compile(loss=\"categorical_crossentropy\", optimizer=\"adam\", metrics=[\"accuracy\"])\n",
        "\n",
        "model.summary()"
      ],
      "execution_count": 92,
      "outputs": [
        {
          "output_type": "stream",
          "text": [
            "Model: \"sequential_9\"\n",
            "_________________________________________________________________\n",
            "Layer (type)                 Output Shape              Param #   \n",
            "=================================================================\n",
            "conv2d_33 (Conv2D)           (None, 26, 26, 32)        320       \n",
            "_________________________________________________________________\n",
            "max_pooling2d_17 (MaxPooling (None, 13, 13, 32)        0         \n",
            "_________________________________________________________________\n",
            "conv2d_34 (Conv2D)           (None, 11, 11, 64)        18496     \n",
            "_________________________________________________________________\n",
            "max_pooling2d_18 (MaxPooling (None, 5, 5, 64)          0         \n",
            "_________________________________________________________________\n",
            "flatten_9 (Flatten)          (None, 1600)              0         \n",
            "_________________________________________________________________\n",
            "dropout_25 (Dropout)         (None, 1600)              0         \n",
            "_________________________________________________________________\n",
            "dense_17 (Dense)             (None, 10)                16010     \n",
            "=================================================================\n",
            "Total params: 34,826\n",
            "Trainable params: 34,826\n",
            "Non-trainable params: 0\n",
            "_________________________________________________________________\n"
          ],
          "name": "stdout"
        }
      ]
    },
    {
      "cell_type": "code",
      "metadata": {
        "id": "h9E_h_cdvxqT",
        "colab_type": "code",
        "colab": {
          "base_uri": "https://localhost:8080/",
          "height": 407
        },
        "outputId": "10649f9c-46b0-44e6-ffd8-b41f4c9153a8"
      },
      "source": [
        "batch_size = 32\n",
        "epochs = 10\n",
        "\n",
        "model.fit(x_train, y_train, batch_size=batch_size, epochs=epochs, validation_split=0.1)\n",
        "# model.fit(x_train, y_train, batch_size=batch_size, epochs=epochs, validation_data=(x_test, y_test), verbose=0)"
      ],
      "execution_count": 94,
      "outputs": [
        {
          "output_type": "stream",
          "text": [
            "Train on 54000 samples, validate on 6000 samples\n",
            "Epoch 1/10\n",
            "54000/54000 [==============================] - 48s 893us/step - loss: 0.1067 - accuracy: 0.9670 - val_loss: 0.0449 - val_accuracy: 0.9877\n",
            "Epoch 2/10\n",
            "54000/54000 [==============================] - 48s 897us/step - loss: 0.0724 - accuracy: 0.9781 - val_loss: 0.0382 - val_accuracy: 0.9890\n",
            "Epoch 3/10\n",
            "54000/54000 [==============================] - 49s 912us/step - loss: 0.0600 - accuracy: 0.9808 - val_loss: 0.0370 - val_accuracy: 0.9888\n",
            "Epoch 4/10\n",
            "54000/54000 [==============================] - 48s 889us/step - loss: 0.0535 - accuracy: 0.9833 - val_loss: 0.0336 - val_accuracy: 0.9898\n",
            "Epoch 5/10\n",
            "54000/54000 [==============================] - 48s 890us/step - loss: 0.0464 - accuracy: 0.9847 - val_loss: 0.0321 - val_accuracy: 0.9898\n",
            "Epoch 6/10\n",
            "54000/54000 [==============================] - 48s 888us/step - loss: 0.0434 - accuracy: 0.9860 - val_loss: 0.0312 - val_accuracy: 0.9895\n",
            "Epoch 7/10\n",
            "54000/54000 [==============================] - 48s 884us/step - loss: 0.0402 - accuracy: 0.9872 - val_loss: 0.0291 - val_accuracy: 0.9908\n",
            "Epoch 8/10\n",
            "54000/54000 [==============================] - 48s 882us/step - loss: 0.0375 - accuracy: 0.9883 - val_loss: 0.0299 - val_accuracy: 0.9910\n",
            "Epoch 9/10\n",
            "54000/54000 [==============================] - 48s 896us/step - loss: 0.0344 - accuracy: 0.9891 - val_loss: 0.0273 - val_accuracy: 0.9930\n",
            "Epoch 10/10\n",
            "54000/54000 [==============================] - 48s 893us/step - loss: 0.0324 - accuracy: 0.9895 - val_loss: 0.0301 - val_accuracy: 0.9925\n"
          ],
          "name": "stdout"
        },
        {
          "output_type": "execute_result",
          "data": {
            "text/plain": [
              "<keras.callbacks.callbacks.History at 0x7f6ca0c39a58>"
            ]
          },
          "metadata": {
            "tags": []
          },
          "execution_count": 94
        }
      ]
    },
    {
      "cell_type": "code",
      "metadata": {
        "id": "uOgG8Brg-1pM",
        "colab_type": "code",
        "colab": {
          "base_uri": "https://localhost:8080/",
          "height": 52
        },
        "outputId": "6b95f241-89a6-46f4-a452-d5dd317712b5"
      },
      "source": [
        "score = model.evaluate(x_test, y_test, verbose=0)\n",
        "\n",
        "print(\"Test loss: \", score[0])\n",
        "print(\"Test accuracy: \", score[1])"
      ],
      "execution_count": 96,
      "outputs": [
        {
          "output_type": "stream",
          "text": [
            "Test loss:  0.024301116205440485\n",
            "Test accuracy:  0.991100013256073\n"
          ],
          "name": "stdout"
        }
      ]
    },
    {
      "cell_type": "code",
      "metadata": {
        "id": "KcclAcaCrfF4",
        "colab_type": "code",
        "colab": {}
      },
      "source": [
        "# # set a learning rate annealer\n",
        "# learning_rate_reduction = ReduceLROnPlateau(monitor='val_acc', \n",
        "#                                             patience=3, \n",
        "#                                             verbose=1, \n",
        "#                                             factor=0.5, \n",
        "#                                             min_lr=0.00001)"
      ],
      "execution_count": 48,
      "outputs": []
    },
    {
      "cell_type": "code",
      "metadata": {
        "id": "BnGhBQf4sKak",
        "colab_type": "code",
        "colab": {}
      },
      "source": [
        "# datagen = ImageDataGenerator(\n",
        "#         featurewise_center=False,  # set input mean to 0 over the dataset\n",
        "#         samplewise_center=False,  # set each sample mean to 0\n",
        "#         featurewise_std_normalization=False,  # divide inputs by std of the dataset\n",
        "#         samplewise_std_normalization=False,  # divide each input by its std\n",
        "#         zca_whitening=False,  # apply ZCA whitening\n",
        "#         rotation_range=10,  # randomly rotate images in the range (degrees, 0 to 180)\n",
        "#         zoom_range = 0.1, # randomly zoom image \n",
        "#         width_shift_range=0.1,  # randomly shift images horizontally (fraction of total width)\n",
        "#         height_shift_range=0.1,  # randomly shift images vertically (fraction of total height)\n",
        "#         horizontal_flip=False,  # randomly flip images\n",
        "#         vertical_flip=False)  # randomly flip images\n",
        "\n",
        "\n",
        "# datagen.fit(x_train)"
      ],
      "execution_count": 52,
      "outputs": []
    },
    {
      "cell_type": "code",
      "metadata": {
        "id": "QjW1uJzvshGk",
        "colab_type": "code",
        "colab": {}
      },
      "source": [
        "# epochs = 30\n",
        "# batch_size = 86\n",
        "\n",
        "# # fit the model\n",
        "# history = model.fit_generator(datagen.flow(x_train,y_train, batch_size=batch_size),\n",
        "#                               epochs = epochs, validation_data = (x_test,y_test),\n",
        "#                               verbose = 2, steps_per_epoch=x_train.shape[0] // batch_size\n",
        "#                               , callbacks=[learning_rate_reduction])"
      ],
      "execution_count": null,
      "outputs": []
    }
  ]
}